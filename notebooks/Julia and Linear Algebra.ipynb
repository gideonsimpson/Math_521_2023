{
 "cells": [
  {
   "cell_type": "code",
   "execution_count": null,
   "id": "382a5d4d-59cb-4162-8b40-584c63cba7ee",
   "metadata": {},
   "outputs": [],
   "source": [
    "using LinearAlgebra"
   ]
  },
  {
   "cell_type": "markdown",
   "id": "c1e92ebc-f87f-42ab-8508-13dd3027e3d7",
   "metadata": {},
   "source": [
    "# Matrix Construction\n",
    "Rows are separated with `;`'s."
   ]
  },
  {
   "cell_type": "code",
   "execution_count": null,
   "id": "a5742fad-9894-42dc-9d64-0560b55326e7",
   "metadata": {},
   "outputs": [],
   "source": [
    "A = [1 2; 2 3; -5. 6];\n",
    "display(A);"
   ]
  },
  {
   "cell_type": "markdown",
   "id": "e3ff7890-d411-4a62-9d62-c5047cbabe26",
   "metadata": {},
   "source": [
    "# Vector Construction\n",
    "`;`'s are needed to be interpreted as column vectors"
   ]
  },
  {
   "cell_type": "code",
   "execution_count": null,
   "id": "fa03e5d5-a6d3-41fd-994a-a49094b83bae",
   "metadata": {},
   "outputs": [],
   "source": [
    "x = [1 2];\n",
    "display(x);"
   ]
  },
  {
   "cell_type": "code",
   "execution_count": null,
   "id": "7a4ef7e0-76bb-4727-a06f-ed517568c029",
   "metadata": {},
   "outputs": [],
   "source": [
    "x = [1; 2];\n",
    "display(x);"
   ]
  },
  {
   "cell_type": "markdown",
   "id": "36009df1-eab8-4448-8aed-3af3a68e3fdf",
   "metadata": {},
   "source": [
    "The `:` argument will force an into column vector format."
   ]
  },
  {
   "cell_type": "code",
   "execution_count": null,
   "id": "c4723208-69ea-4614-9887-b54b3d4d527e",
   "metadata": {},
   "outputs": [],
   "source": [
    "x = [1 2];\n",
    "x = x[:];\n",
    "display(x);"
   ]
  },
  {
   "cell_type": "markdown",
   "id": "20014f97-7587-4ea4-a6d0-a51922dd61b6",
   "metadata": {},
   "source": [
    "# Matrix-Vector Multiplication"
   ]
  },
  {
   "cell_type": "code",
   "execution_count": null,
   "id": "cb6e8195-a6d6-43be-98bd-7930c38c0684",
   "metadata": {},
   "outputs": [],
   "source": [
    "A*x"
   ]
  },
  {
   "cell_type": "markdown",
   "id": "c8fb4d52-e046-46eb-bfed-b40612a5d6f9",
   "metadata": {},
   "source": [
    "# Transpose"
   ]
  },
  {
   "cell_type": "code",
   "execution_count": null,
   "id": "3c74ebe1-bfa9-4281-b9db-c22faba4cd42",
   "metadata": {},
   "outputs": [],
   "source": [
    "x'"
   ]
  },
  {
   "cell_type": "code",
   "execution_count": null,
   "id": "b36e7dc4-542a-43d6-9d0d-8d2e6f7bd9d9",
   "metadata": {},
   "outputs": [],
   "source": [
    "A'"
   ]
  },
  {
   "cell_type": "markdown",
   "id": "c43f37ba-b81b-44f0-a20f-471bd86e3e51",
   "metadata": {},
   "source": [
    "# Vector Norms"
   ]
  },
  {
   "cell_type": "code",
   "execution_count": null,
   "id": "7bc37ce7-ec9f-4214-89da-cc057c2e9b89",
   "metadata": {},
   "outputs": [],
   "source": [
    "@show norm(x); # defaults to 2-norm\n",
    "@show norm(x, 1); # the 1-norm\n",
    "@show norm(x, Inf); # the ∞-norm"
   ]
  },
  {
   "cell_type": "markdown",
   "id": "95f9ffa6-9bab-48cd-a4f8-12a626b514a4",
   "metadata": {},
   "source": [
    "# Matrix Norms\n",
    "While you can use `norm` on a matrix, it is __not__ the textbook notion of the matrix operator norm,\n",
    "$$\n",
    "\\|A\\|_p = \\sup_{x\\neq 0} \\frac{\\|Ax\\|_p}{\\|x\\|_p}\n",
    "$$"
   ]
  },
  {
   "cell_type": "code",
   "execution_count": null,
   "id": "5ebb10f1-68aa-45a5-a151-a920f3144857",
   "metadata": {},
   "outputs": [],
   "source": [
    "@show opnorm(A); # defaults to 2-norm\n",
    "@show opnorm(A,1); # the 1-norm"
   ]
  },
  {
   "cell_type": "code",
   "execution_count": null,
   "id": "f2be13b1-a028-4836-9b70-2c2d6ddcb8c4",
   "metadata": {},
   "outputs": [],
   "source": [
    "@show norm(A); # this corresponds to the Frobenius norm of the matrix"
   ]
  },
  {
   "cell_type": "markdown",
   "id": "c22718f9-af44-4e21-b577-e8dc94dbadf0",
   "metadata": {},
   "source": [
    "# Solving Linear Systems\n",
    "These can be solved using the `\\` operator."
   ]
  },
  {
   "cell_type": "code",
   "execution_count": null,
   "id": "04e2f2a3-d8fb-4f1e-b1c2-e1629279b4ed",
   "metadata": {},
   "outputs": [],
   "source": [
    "A = [1 -2; -2 1];\n",
    "b = [-2; 3];\n",
    "x = A\\b;\n",
    "display(x);"
   ]
  },
  {
   "cell_type": "markdown",
   "id": "ef456bf3-3426-4bdd-81d9-95fec07929d8",
   "metadata": {},
   "source": [
    "# Eigenvalues"
   ]
  },
  {
   "cell_type": "code",
   "execution_count": null,
   "id": "a1441cc7-1171-4327-8c91-a8d04e125086",
   "metadata": {},
   "outputs": [],
   "source": [
    "A = [1 -2; -2 1];\n",
    "F = eigen(A); # compute the eigenvalue/eigenvector decomposition"
   ]
  },
  {
   "cell_type": "code",
   "execution_count": null,
   "id": "3d7c8e76-34b5-42c3-9585-a4bc103c6647",
   "metadata": {},
   "outputs": [],
   "source": [
    "@show F.values;"
   ]
  },
  {
   "cell_type": "code",
   "execution_count": null,
   "id": "9222c553-fede-4778-a6ab-9150bf4fca2c",
   "metadata": {},
   "outputs": [],
   "source": [
    "display(F.vectors); # columns of this matrix correspond to the eigenvectors"
   ]
  }
 ],
 "metadata": {
  "kernelspec": {
   "display_name": "Julia 1.8.4",
   "language": "julia",
   "name": "julia-1.8"
  },
  "language_info": {
   "file_extension": ".jl",
   "mimetype": "application/julia",
   "name": "julia",
   "version": "1.8.4"
  }
 },
 "nbformat": 4,
 "nbformat_minor": 5
}
