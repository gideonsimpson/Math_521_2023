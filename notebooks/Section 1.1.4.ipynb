{
 "cells": [
  {
   "cell_type": "markdown",
   "id": "9f68416a-e080-4c91-9579-231fc470d18d",
   "metadata": {},
   "source": [
    "# Comparison of Matrix Multiplication\n",
    "Compare the computation of the matrix-matrix product by inner products and outer products"
   ]
  },
  {
   "cell_type": "code",
   "execution_count": null,
   "id": "6ddf08a4-0bf9-4c92-9113-7e64f1c5452a",
   "metadata": {},
   "outputs": [],
   "source": [
    "using LinearAlgebra\n",
    "using BenchmarkTools\n",
    "using Random"
   ]
  },
  {
   "cell_type": "code",
   "execution_count": null,
   "id": "c34ef6e9-1f1a-4288-bff9-0c59bb83847f",
   "metadata": {},
   "outputs": [],
   "source": [
    "n = 10;\n",
    "A = randn(n,n); # construct 2 n×n matrices\n",
    "B = randn(n,n);\n",
    "C_inner = zeros(n,n); # preallocate space for C\n",
    "C_outer = zeros(n,n); # preallocate space for C"
   ]
  },
  {
   "cell_type": "code",
   "execution_count": null,
   "id": "04b40eda-9cdb-4e82-a624-af1e126ae6e5",
   "metadata": {},
   "outputs": [],
   "source": [
    "function AB_ip!(C, A, B)\n",
    "    @. C = 0;\n",
    "    for i in 1:n, j in 1:n\n",
    "        C[i,j] = A[i,:] ⋅ B[:,j];\n",
    "    end\n",
    "    C\n",
    "end\n",
    "\n",
    "function AB_op!(C, A, B)\n",
    "    @. C = 0;\n",
    "    for i in 1:n\n",
    "        C.+= A[:,i] * B[i,:]';\n",
    "    end\n",
    "    C\n",
    "end"
   ]
  },
  {
   "cell_type": "markdown",
   "id": "c3fad819-6ef2-48bb-9266-91b5a55659cb",
   "metadata": {},
   "source": [
    "## Inner Products"
   ]
  },
  {
   "cell_type": "code",
   "execution_count": null,
   "id": "53ac66c8-f984-402d-9a6b-7a35653dba1e",
   "metadata": {},
   "outputs": [],
   "source": [
    "@btime AB_ip!(C_inner, A, B);"
   ]
  },
  {
   "cell_type": "markdown",
   "id": "718fd4ad-8127-469c-8917-1092f37189dd",
   "metadata": {},
   "source": [
    "## Outer Products"
   ]
  },
  {
   "cell_type": "code",
   "execution_count": null,
   "id": "34865e6a-4c6d-4dfb-afca-70c00e9fca62",
   "metadata": {},
   "outputs": [],
   "source": [
    "@btime AB_op!(C_outer, A, B);"
   ]
  },
  {
   "cell_type": "code",
   "execution_count": null,
   "id": "bf260e9a-b5db-40a6-90aa-f79f47f7b4dc",
   "metadata": {},
   "outputs": [],
   "source": [
    "@show norm(C_inner - C_outer);"
   ]
  }
 ],
 "metadata": {
  "kernelspec": {
   "display_name": "Julia 1.8.4",
   "language": "julia",
   "name": "julia-1.8"
  },
  "language_info": {
   "file_extension": ".jl",
   "mimetype": "application/julia",
   "name": "julia",
   "version": "1.8.4"
  }
 },
 "nbformat": 4,
 "nbformat_minor": 5
}
