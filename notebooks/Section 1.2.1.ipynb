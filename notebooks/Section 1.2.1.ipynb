{
 "cells": [
  {
   "cell_type": "markdown",
   "id": "80c44078-d95d-432f-82fe-0d6457ac3a5c",
   "metadata": {},
   "source": [
    "# Gaussian Elimination and LU\n",
    "Use Gaussian elimination to convert \n",
    "$$\n",
    "Ax = b\n",
    "$$\n",
    "into\n",
    "$$\n",
    "Ux = c\n",
    "$$\n",
    "where $U$ is upper triangular.  This version assumes $A$ is non-singular and there are no pivoting issues."
   ]
  },
  {
   "cell_type": "code",
   "execution_count": null,
   "id": "e99ba02c-f03c-4920-b60a-5aa7444c47a9",
   "metadata": {},
   "outputs": [],
   "source": [
    "using LinearAlgebra\n",
    "using Random"
   ]
  },
  {
   "cell_type": "code",
   "execution_count": null,
   "id": "5f45fb20-a00b-4e5b-9fca-920508ebaf34",
   "metadata": {},
   "outputs": [],
   "source": [
    "function gauss1(A,b)\n",
    "    n = length(b);\n",
    "    U = deepcopy(A);\n",
    "    c = deepcopy(b);\n",
    "    L = Matrix(1.0 * I(n)); # create an empty identity matrix of size n×n\n",
    "    for k in 1:n-1\n",
    "        for i in k+1:n\n",
    "            L[i,k] = U[i,k]/U[k,k];\n",
    "            # for j in k+1:n\n",
    "            #     U[i,j] = U[i,j] - L[i,k] * U[k,j];\n",
    "            # end\n",
    "            # vectorized version of hte above loop\n",
    "            @. U[i, k+1:n] = U[i, k+1:n] - L[i,k] * U[k, k+1:n];            \n",
    "            c[i] = c[i] - L[i,k] * c[k]\n",
    "        end\n",
    "        \n",
    "    end\n",
    "    triu!(U); # extract upper trinagular part\n",
    "    return L, U, c\n",
    "end"
   ]
  },
  {
   "cell_type": "code",
   "execution_count": null,
   "id": "d5cc534e-509c-4f15-9135-46548ac1eb53",
   "metadata": {},
   "outputs": [],
   "source": [
    "A = Float64[2 -1; 3 1];\n",
    "display(A);\n",
    "b = [2; 1];\n",
    "display(b);"
   ]
  },
  {
   "cell_type": "code",
   "execution_count": null,
   "id": "cae56207-4617-4f19-b71d-7c9ea5db174a",
   "metadata": {},
   "outputs": [],
   "source": [
    "L, U, c = gauss1(A,b)"
   ]
  },
  {
   "cell_type": "code",
   "execution_count": null,
   "id": "cbce12ee-4cbe-4fcc-a06f-26b604f88adf",
   "metadata": {},
   "outputs": [],
   "source": [
    "L"
   ]
  },
  {
   "cell_type": "code",
   "execution_count": null,
   "id": "71ca0393-06c6-4536-899b-6a021e434b83",
   "metadata": {},
   "outputs": [],
   "source": [
    "U"
   ]
  },
  {
   "cell_type": "code",
   "execution_count": null,
   "id": "67f7a871-1822-4f52-9f34-bade3ec6448a",
   "metadata": {},
   "outputs": [],
   "source": [
    "L*U"
   ]
  },
  {
   "cell_type": "code",
   "execution_count": null,
   "id": "f62216c2-b4a5-4112-a5e6-a683e54199f7",
   "metadata": {},
   "outputs": [],
   "source": [
    "n = 5;\n",
    "Random.seed!(123);\n",
    "A = randn(n,n);\n",
    "b = randn(n);\n",
    "L, U, c = gauss1(A,b);\n",
    "display(L);\n",
    "display(U);\n",
    "@show norm(A - L*U);"
   ]
  }
 ],
 "metadata": {
  "kernelspec": {
   "display_name": "Julia 1.8.3",
   "language": "julia",
   "name": "julia-1.8"
  },
  "language_info": {
   "file_extension": ".jl",
   "mimetype": "application/julia",
   "name": "julia",
   "version": "1.8.5"
  }
 },
 "nbformat": 4,
 "nbformat_minor": 5
}
