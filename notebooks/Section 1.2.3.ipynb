{
 "cells": [
  {
   "cell_type": "markdown",
   "id": "bf22eebb-8ea3-4fc7-bebf-b1a2e7f82477",
   "metadata": {},
   "source": [
    "# GEPP Implementation\n",
    "For nonsingular $A$, find the factorization\n",
    "$$\n",
    "PA = LU\n",
    "$$"
   ]
  },
  {
   "cell_type": "code",
   "execution_count": null,
   "id": "1d048855-da43-460d-b338-490db5e6ef3b",
   "metadata": {},
   "outputs": [],
   "source": [
    "using LinearAlgebra\n",
    "using Random"
   ]
  },
  {
   "cell_type": "code",
   "execution_count": null,
   "id": "3906bbc7-2016-46ca-befd-12d845bedd31",
   "metadata": {},
   "outputs": [],
   "source": [
    "function gepp(A)\n",
    "    n = size(A)[1];\n",
    "    U = deepcopy(A);\n",
    "    P = Matrix(I(n)); # create an identity matrix of integer values\n",
    "\n",
    "    for k in 1:n-1\n",
    "        # find row index beneath diagonal with largest magnitude in column k\n",
    "        q = argmax(abs.(U[k:end,k])) + k-1; # pivot index and offset\n",
    "        # exchange rows in U and P, if needed\n",
    "        if q>k\n",
    "            @. U[[k, q],:] = U[[q, k],:];\n",
    "            # @. L[[k, q],1:k] = L[[q, k],1:k];\n",
    "            @. P[[k, q],:] = P[[q, k],:];\n",
    "        end\n",
    "        # update\n",
    "        @. U[k+1:n,k] = U[k+1:n,k]/U[k,k];\n",
    "        @. U[k+1:n, k+1:n] = U[k+1:n, k+1:n] - U[k+1:n,k] * U[k, k+1:n]';\n",
    "        \n",
    "    end\n",
    "    L = tril(U,-1) + I;\n",
    "    triu!(U); # extract upper trinagular part\n",
    "    return P, L, U\n",
    "end"
   ]
  },
  {
   "cell_type": "code",
   "execution_count": null,
   "id": "a4fccb83-ce51-440c-972b-6abe4b676016",
   "metadata": {},
   "outputs": [],
   "source": [
    "Random.seed!(100);\n",
    "n = 5;\n",
    "A = randn(n,n)"
   ]
  },
  {
   "cell_type": "code",
   "execution_count": null,
   "id": "29328330-780e-4fa4-bcc4-a07ccd6cfa5e",
   "metadata": {},
   "outputs": [],
   "source": [
    "P, L, U = gepp(A);"
   ]
  },
  {
   "cell_type": "code",
   "execution_count": null,
   "id": "4a5c5380-f988-452e-8018-e6eaa5345bba",
   "metadata": {},
   "outputs": [],
   "source": [
    "P"
   ]
  },
  {
   "cell_type": "code",
   "execution_count": null,
   "id": "e1ed05f2-d6fb-4298-bda6-c3be7cc499f4",
   "metadata": {},
   "outputs": [],
   "source": [
    "L"
   ]
  },
  {
   "cell_type": "code",
   "execution_count": null,
   "id": "bfcb181d-abf3-4ba0-a4ff-f79c63d59ef9",
   "metadata": {},
   "outputs": [],
   "source": [
    "L*U"
   ]
  },
  {
   "cell_type": "code",
   "execution_count": null,
   "id": "493631f8-0052-4700-8bb1-7726ff768ad5",
   "metadata": {},
   "outputs": [],
   "source": [
    "display(P);\n",
    "display(L);\n",
    "display(U);\n",
    "@show norm( P*A - L * U);"
   ]
  },
  {
   "cell_type": "markdown",
   "id": "d4faaecc-bcb7-4748-88a0-6c7c610a1901",
   "metadata": {},
   "source": [
    "Problematic example from text\n"
   ]
  },
  {
   "cell_type": "code",
   "execution_count": null,
   "id": "f5ab4525-298a-4670-b2e4-95068c33400e",
   "metadata": {},
   "outputs": [],
   "source": [
    "ϵ= 1e-8;\n",
    "A = [ ϵ 1 ; 1 1];\n",
    "P, L, U = gepp(A);\n",
    "display(P);\n",
    "display(L);\n",
    "display(U);\n",
    "@show norm(P * A - L * U);"
   ]
  }
 ],
 "metadata": {
  "kernelspec": {
   "display_name": "Julia 1.8.5",
   "language": "julia",
   "name": "julia-1.8"
  },
  "language_info": {
   "file_extension": ".jl",
   "mimetype": "application/julia",
   "name": "julia",
   "version": "1.8.5"
  }
 },
 "nbformat": 4,
 "nbformat_minor": 5
}
