{
 "cells": [
  {
   "cell_type": "markdown",
   "id": "7559dc0a-8244-463b-9dce-c6eb41483030",
   "metadata": {},
   "source": [
    "# Problems with Solution by Normal Equations"
   ]
  },
  {
   "cell_type": "code",
   "execution_count": null,
   "id": "d8423a30-98f8-48ef-bab9-efa6b085b8e3",
   "metadata": {},
   "outputs": [],
   "source": [
    "using Random\n",
    "using Plots\n",
    "using Statistics\n",
    "using LinearAlgebra"
   ]
  },
  {
   "cell_type": "markdown",
   "id": "eb88b8a2-8945-442e-b88b-9300adcf3b67",
   "metadata": {},
   "source": [
    "Data is generated from a true linear model,\n",
    "$$\n",
    "y = \\alpha + \\beta x,\n",
    "$$\n",
    "the $x_i$'s are sampled from $N(0,\\sigma^2)$."
   ]
  },
  {
   "cell_type": "code",
   "execution_count": null,
   "id": "cc71b4f8-a19c-42c7-93fb-3643bda36644",
   "metadata": {},
   "outputs": [],
   "source": [
    "α = 2; \n",
    "β = -3;\n",
    "\n",
    "σ= 1e-2;\n",
    "\n",
    "n_samples = 100;\n",
    "\n",
    "x = σ * randn(n_samples);\n",
    "\n",
    "y = @. α + β *x;\n",
    "\n",
    "ϵ= 1e-4;\n",
    "\n",
    "y_noisy = @. y  + ϵ * randn();"
   ]
  },
  {
   "cell_type": "code",
   "execution_count": null,
   "id": "dc1cff1d-d236-4d42-8681-eb25c80493b3",
   "metadata": {},
   "outputs": [],
   "source": [
    "scatter(x,y)\n",
    "scatter!(x,y_noisy)"
   ]
  },
  {
   "cell_type": "code",
   "execution_count": null,
   "id": "c95ffbfb-b101-4437-8e48-3cdffa21b593",
   "metadata": {},
   "outputs": [],
   "source": [
    "# construct design matrix;\n",
    "A = [ones(n_samples) x]\n",
    "# construct A'A\n",
    "C = A'A;\n",
    "@show det(C);\n",
    "@show cond(C,2);"
   ]
  },
  {
   "cell_type": "code",
   "execution_count": null,
   "id": "d9edb401-00fb-498b-84e3-9527e5300560",
   "metadata": {},
   "outputs": [],
   "source": [
    "@show C\\(A'y);\n",
    "@show C\\(A'y_noisy);"
   ]
  },
  {
   "cell_type": "code",
   "execution_count": null,
   "id": "d31a2b47-dfb0-4a69-8aab-ae8bb2582b5f",
   "metadata": {},
   "outputs": [],
   "source": []
  }
 ],
 "metadata": {
  "kernelspec": {
   "display_name": "Julia 1.8.5",
   "language": "julia",
   "name": "julia-1.8"
  },
  "language_info": {
   "file_extension": ".jl",
   "mimetype": "application/julia",
   "name": "julia",
   "version": "1.8.5"
  }
 },
 "nbformat": 4,
 "nbformat_minor": 5
}
