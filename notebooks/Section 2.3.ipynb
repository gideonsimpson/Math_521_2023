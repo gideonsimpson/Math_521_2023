{
 "cells": [
  {
   "cell_type": "markdown",
   "id": "df903de4-ee48-486d-9654-f24e0103a236",
   "metadata": {},
   "source": [
    "# QR Factorizations"
   ]
  },
  {
   "cell_type": "code",
   "execution_count": 1,
   "id": "abb34fd4-11a1-4c56-9e97-83b80e4c46b6",
   "metadata": {},
   "outputs": [],
   "source": [
    "using Random\n",
    "using Statistics\n",
    "using LinearAlgebra"
   ]
  },
  {
   "cell_type": "code",
   "execution_count": 2,
   "id": "4ff8b572-382a-4150-882c-65e917469103",
   "metadata": {},
   "outputs": [
    {
     "data": {
      "text/plain": [
       "Householder (generic function with 1 method)"
      ]
     },
     "execution_count": 2,
     "metadata": {},
     "output_type": "execute_result"
    }
   ],
   "source": [
    "# generate Householder u for a given x, normalizes it so u[1] = 1\n",
    "function Householder(x)\n",
    "    u = copy(x);\n",
    "    σ = norm(x,2);\n",
    "    u[1] += sign(x[1])*σ;\n",
    "    u ./=u[1];\n",
    "    β = 2/(u'u);\n",
    "    return u, β, σ\n",
    "end\n"
   ]
  },
  {
   "cell_type": "code",
   "execution_count": 3,
   "id": "e5e972a4-b63a-4e4c-8d1a-40f6299b7a28",
   "metadata": {},
   "outputs": [
    {
     "data": {
      "text/plain": [
       "QR_Householder_with_Q (generic function with 1 method)"
      ]
     },
     "execution_count": 3,
     "metadata": {},
     "output_type": "execute_result"
    }
   ],
   "source": [
    "function QR_Householder(A)\n",
    "    # get dimensions\n",
    "    m,n = size(A);\n",
    "    R = copy(A); #avoid destroying A\n",
    "    \n",
    "    for i in 1:min(m-1,n)\n",
    "        u, β, _ = Householder(R[i:end,i]);\n",
    "        R[i:end, i:end] .= R[i:end,i:end] - β * u * (u' * R[i:end,i:end])\n",
    "    end\n",
    "    return triu(R[1:n, 1:n])\n",
    "end\n",
    "\n",
    "function QR_Householder_with_Q(A)\n",
    "    # get dimensions\n",
    "    m,n = size(A);\n",
    "    R = copy(A); #avoid destroying A\n",
    "    Qt = Matrix{Float64}(I, m, n)\n",
    "    \n",
    "    for i in 1:min(m-1,n)\n",
    "        u, β, _ = Householder(R[i:end,i]);\n",
    "        R[i:end, i:end] .-=  β * u * (u' * R[i:end,i:end])\n",
    "        Qt[i:end, :] .-=  β* u * (u' *Qt[i:end, :])\n",
    "    end\n",
    "    return transpose(Qt), triu(R[1:n,1:n])\n",
    "end\n"
   ]
  },
  {
   "cell_type": "code",
   "execution_count": 4,
   "id": "b7d285ed-040e-4cbc-a041-ca9055b3511e",
   "metadata": {},
   "outputs": [
    {
     "data": {
      "text/plain": [
       "2×2 Matrix{Float64}:\n",
       " -1.0  1.0\n",
       "  2.0  3.0"
      ]
     },
     "metadata": {},
     "output_type": "display_data"
    },
    {
     "data": {
      "text/plain": [
       "2.618033988749894"
      ]
     },
     "execution_count": 4,
     "metadata": {},
     "output_type": "execute_result"
    }
   ],
   "source": [
    "A = Float64[-1 1; 2 3]\n",
    "display(A)\n",
    "cond(A)"
   ]
  },
  {
   "cell_type": "code",
   "execution_count": 5,
   "id": "d65031b4-882b-4a6a-a818-aef3b9a49579",
   "metadata": {},
   "outputs": [
    {
     "data": {
      "text/plain": [
       "2×2 Matrix{Float64}:\n",
       " 2.23607  2.23607\n",
       " 0.0      2.23607"
      ]
     },
     "execution_count": 5,
     "metadata": {},
     "output_type": "execute_result"
    }
   ],
   "source": [
    "QR_Householder(A)"
   ]
  },
  {
   "cell_type": "code",
   "execution_count": 6,
   "id": "ab4ff729-2df0-404f-8a83-78f48f49151d",
   "metadata": {},
   "outputs": [
    {
     "data": {
      "text/plain": [
       "2×2 transpose(::Matrix{Float64}) with eltype Float64:\n",
       " -0.447214  0.894427\n",
       "  0.894427  0.447214"
      ]
     },
     "metadata": {},
     "output_type": "display_data"
    },
    {
     "data": {
      "text/plain": [
       "2×2 Matrix{Float64}:\n",
       " 2.23607  2.23607\n",
       " 0.0      2.23607"
      ]
     },
     "metadata": {},
     "output_type": "display_data"
    }
   ],
   "source": [
    "Q, R = QR_Householder_with_Q(A);\n",
    "display(Q);\n",
    "display(R);"
   ]
  },
  {
   "cell_type": "code",
   "execution_count": 9,
   "id": "efa98988-643d-49e9-bf52-ef0d2bf937f3",
   "metadata": {},
   "outputs": [
    {
     "data": {
      "text/plain": [
       "2×2 LinearAlgebra.QRCompactWYQ{Float64, Matrix{Float64}, Matrix{Float64}}:\n",
       " -0.447214  0.894427\n",
       "  0.894427  0.447214"
      ]
     },
     "metadata": {},
     "output_type": "display_data"
    },
    {
     "data": {
      "text/plain": [
       "2×2 Matrix{Float64}:\n",
       " 2.23607  2.23607\n",
       " 0.0      2.23607"
      ]
     },
     "metadata": {},
     "output_type": "display_data"
    }
   ],
   "source": [
    "F = qr(A); \n",
    "display(F.Q);\n",
    "display(F.R);"
   ]
  },
  {
   "cell_type": "code",
   "execution_count": 14,
   "id": "7c856151-38e8-4993-8c88-7fbbbcfc1100",
   "metadata": {},
   "outputs": [
    {
     "data": {
      "text/plain": [
       "1928.9310856062943"
      ]
     },
     "execution_count": 14,
     "metadata": {},
     "output_type": "execute_result"
    }
   ],
   "source": [
    "Random.seed!(100)\n",
    "A = randn(1000,1000);\n",
    "cond(A)"
   ]
  },
  {
   "cell_type": "code",
   "execution_count": null,
   "id": "3770b618-7d6a-4b22-9af3-2efba7322a5a",
   "metadata": {},
   "outputs": [],
   "source": [
    "Q, R = QR_Householder_with_Q(A);\n",
    "F = qr(A);\n",
    "@show norm(R -F.R);\n",
    "@show norm(Q -F.Q);\n",
    "@show norm(Q'Q-I); # Q̂ᵗQ̂-I, Q̂, the explicit numerical orthogonal matrix, measures numerical deficiency in orhtogonality\n",
    "@show norm(Q*R-A); # Q̂R̂ - A = ΔA, the backwards error"
   ]
  },
  {
   "cell_type": "code",
   "execution_count": null,
   "id": "29ed886d-f4ac-4f30-9423-4695093ee10e",
   "metadata": {},
   "outputs": [],
   "source": []
  }
 ],
 "metadata": {
  "kernelspec": {
   "display_name": "Julia 1.8.5",
   "language": "julia",
   "name": "julia-1.8"
  },
  "language_info": {
   "file_extension": ".jl",
   "mimetype": "application/julia",
   "name": "julia",
   "version": "1.8.5"
  }
 },
 "nbformat": 4,
 "nbformat_minor": 5
}
