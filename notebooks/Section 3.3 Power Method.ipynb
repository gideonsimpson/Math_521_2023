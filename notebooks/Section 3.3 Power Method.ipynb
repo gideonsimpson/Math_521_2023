{
 "cells": [
  {
   "cell_type": "code",
   "execution_count": 1,
   "id": "2f65e750-bfcd-454d-b010-e30c95519222",
   "metadata": {},
   "outputs": [],
   "source": [
    "using LinearAlgebra\n",
    "using Random\n",
    "using Printf"
   ]
  },
  {
   "cell_type": "code",
   "execution_count": 4,
   "id": "b5b895a2-a291-413b-a374-cfb3bd51d677",
   "metadata": {},
   "outputs": [
    {
     "data": {
      "text/plain": [
       "power_method (generic function with 1 method)"
      ]
     },
     "execution_count": 4,
     "metadata": {},
     "output_type": "execute_result"
    }
   ],
   "source": [
    "function power_method(A, v0; n_iters = 10) \n",
    "    v = deepcopy(v0);\n",
    "    λ = 0.;\n",
    "    \n",
    "    for i in 1:n_iters\n",
    "        u = A*v;\n",
    "        μ = norm(u,2);\n",
    "        λ = v'u;\n",
    "        @. v =u/μ;\n",
    "        @printf(\"%2d: λ = %.12g\\n\", i, λ);\n",
    "    end\n",
    "    \n",
    "    return v, λ\n",
    "    \n",
    "end"
   ]
  },
  {
   "cell_type": "code",
   "execution_count": 7,
   "id": "dd780b77-45ea-4caa-a743-136c26df2b7d",
   "metadata": {},
   "outputs": [
    {
     "name": "stdout",
     "output_type": "stream",
     "text": [
      " 1: λ = 13\n",
      " 2: λ = 4.62711864407\n",
      " 3: λ = 4.69411764706\n",
      " 4: λ = 4.71702331523\n",
      " 5: λ = 4.72600972085\n",
      " 6: λ = 4.72961985552\n",
      " 7: λ = 4.73107308586\n",
      " 8: λ = 4.73165771649\n",
      " 9: λ = 4.73189279427\n",
      "10: λ = 4.73198729486\n",
      "11: λ = 4.73202527974\n",
      "12: λ = 4.73204054724\n",
      "13: λ = 4.73204668368\n",
      "14: λ = 4.73204915008\n",
      "15: λ = 4.73205014138\n",
      "16: λ = 4.73205053981\n",
      "17: λ = 4.73205069995\n",
      "18: λ = 4.73205076431\n",
      "19: λ = 4.73205079018\n",
      "20: λ = 4.73205080058\n"
     ]
    },
    {
     "data": {
      "text/plain": [
       "([0.21134811334806183, 0.5773735168344271, 0.7886518858422013], 4.7320508005815105)"
      ]
     },
     "execution_count": 7,
     "metadata": {},
     "output_type": "execute_result"
    }
   ],
   "source": [
    "A = Float64[2 1 0; 1 3 1; 0 1 4];\n",
    "v0 =  Float64[1,1,1];\n",
    "v, λ = power_method(A, v0, n_iters = 20)\n"
   ]
  },
  {
   "cell_type": "code",
   "execution_count": 8,
   "id": "f00eeb57-f581-48c0-984d-d92fc17c204a",
   "metadata": {},
   "outputs": [
    {
     "data": {
      "text/plain": [
       "3-element Vector{Float64}:\n",
       " 1.2679491924311228\n",
       " 3.000000000000001\n",
       " 4.732050807568877"
      ]
     },
     "execution_count": 8,
     "metadata": {},
     "output_type": "execute_result"
    }
   ],
   "source": [
    "eigvals(A)"
   ]
  },
  {
   "cell_type": "code",
   "execution_count": 10,
   "id": "f689e272-0ac9-453c-bf33-04d137c147d1",
   "metadata": {},
   "outputs": [
    {
     "data": {
      "text/plain": [
       "Eigen{Float64, Float64, Matrix{Float64}, Vector{Float64}}\n",
       "values:\n",
       "3-element Vector{Float64}:\n",
       " 1.2679491924311228\n",
       " 3.000000000000002\n",
       " 4.732050807568878\n",
       "vectors:\n",
       "3×3 Matrix{Float64}:\n",
       " -0.788675  -0.57735  0.211325\n",
       "  0.57735   -0.57735  0.57735\n",
       " -0.211325   0.57735  0.788675"
      ]
     },
     "execution_count": 10,
     "metadata": {},
     "output_type": "execute_result"
    }
   ],
   "source": [
    "eigen(A)"
   ]
  },
  {
   "cell_type": "code",
   "execution_count": null,
   "id": "236188f9-a189-4877-b676-e06f784d1717",
   "metadata": {},
   "outputs": [],
   "source": []
  }
 ],
 "metadata": {
  "kernelspec": {
   "display_name": "Julia 1.8.5",
   "language": "julia",
   "name": "julia-1.8"
  },
  "language_info": {
   "file_extension": ".jl",
   "mimetype": "application/julia",
   "name": "julia",
   "version": "1.8.5"
  }
 },
 "nbformat": 4,
 "nbformat_minor": 5
}
