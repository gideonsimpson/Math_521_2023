{
 "cells": [
  {
   "cell_type": "code",
   "execution_count": null,
   "id": "072b3772-44a1-44c0-865e-e591ef48651a",
   "metadata": {},
   "outputs": [],
   "source": [
    "using LinearAlgebra\n",
    "using Random\n",
    "using Printf"
   ]
  },
  {
   "cell_type": "code",
   "execution_count": null,
   "id": "0c9ebf36-224a-4163-9124-22921fb79616",
   "metadata": {},
   "outputs": [],
   "source": [
    "function RQI(A, v0; n_iters = 10) \n",
    "    v = deepcopy(v0);\n",
    "    λ = 0.;\n",
    "    \n",
    "    for i in 1:n_iters\n",
    "        λ = v'A*v;\n",
    "        u = (A-λ*I)\\v;\n",
    "        v .= u/norm(u,2);\n",
    "        @printf(\"%d: λ = %.12g\\n\", i, λ);\n",
    "    end\n",
    "    \n",
    "    return v, λ\n",
    "    \n",
    "end"
   ]
  },
  {
   "cell_type": "code",
   "execution_count": null,
   "id": "a907af0c-a2b8-400d-ab2e-c6e92e38cfde",
   "metadata": {},
   "outputs": [],
   "source": [
    "A = Float64[2 1 0; 1 3 1; 0 1 4];\n",
    "v0 =  Float64[1,1,1];\n",
    "v, λ = RQI(A, v0)\n"
   ]
  }
 ],
 "metadata": {
  "kernelspec": {
   "display_name": "Julia 1.8.5",
   "language": "julia",
   "name": "julia-1.8"
  },
  "language_info": {
   "file_extension": ".jl",
   "mimetype": "application/julia",
   "name": "julia",
   "version": "1.8.5"
  }
 },
 "nbformat": 4,
 "nbformat_minor": 5
}
